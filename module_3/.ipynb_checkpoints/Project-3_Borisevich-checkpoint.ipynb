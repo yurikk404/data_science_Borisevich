{
 "cells": [
  {
   "cell_type": "code",
   "execution_count": 2,
   "metadata": {},
   "outputs": [],
   "source": [
    "# Импорт библиотек\n",
    "from sklearn import metrics  # инструменты для оценки точности модели\n",
    "# инструмент для создания и обучения модели\n",
    "from sklearn.ensemble import RandomForestRegressor\n",
    "import numpy as np\n",
    "import pandas as pd\n",
    "import re\n",
    "from datetime import datetime, date, time\n",
    "from sklearn.model_selection import train_test_split\n",
    "import matplotlib.pyplot as plt\n",
    "import seaborn as sns\n",
    "%matplotlib inline\n",
    "\n",
    "pd.set_option('display.max_rows', 50)  # показывать больше строк\n",
    "pd.set_option('display.max_columns', 50)  # показывать больше колонок\n",
    "\n",
    "# Функции\n",
    "\n",
    "\n",
    "def basic_inf(x):\n",
    "    \n",
    "    display(x.describe())\n",
    "\n",
    "    fig, axes = plt.subplots(1, 3, figsize=(12, 4))\n",
    "    axes[0].hist(x, bins=100)\n",
    "    axes[1].hist(np.log(x), bins=100)\n",
    "    sns.boxplot(np.log(x))\n",
    "\n",
    "    median = x.median()\n",
    "    IQR = x.quantile(0.75) - x.quantile(0.25)\n",
    "    perc25 = x.quantile(0.25)\n",
    "    perc75 = x.quantile(0.75)\n",
    "\n",
    "    print('Медиана: {}'.format(median),\n",
    "          '25-й перцентиль: {},'.format(perc25),\n",
    "          '75-й перцентиль: {},'.format(perc75),\n",
    "          \"IQR: {}, \".format(IQR),\n",
    "          \"Границы выбросов: [{f}, {l}].\".format(f=perc25 - 1.5*IQR,\n",
    "                                                 l=perc75 + 1.5*IQR))\n",
    "\n",
    "    log_median = np.log(x).median()\n",
    "    log_IQR = np.log(x).quantile(0.75) - np.log(x).quantile(0.25)\n",
    "    log_perc25 = np.log(x).quantile(0.25)\n",
    "    log_perc75 = np.log(x).quantile(0.75)\n",
    "\n",
    "    print('Для логарифма:\\n',\n",
    "          'Медиана: {}'.format(log_median),\n",
    "          '25-й перцентиль: {},'.format(log_perc25),\n",
    "          '75-й перцентиль: {},'.format(log_perc75),\n",
    "          \"IQR: {}, \".format(log_IQR),\n",
    "          \"Границы выбросов: [{log_f}, {log_l}].\".format(\n",
    "              log_f=log_perc25 - 1.5*log_IQR,\n",
    "              log_l=log_perc75 + 1.5*log_IQR))\n",
    "\n",
    "\n",
    "def find_item(cell):\n",
    "    if item in cell:\n",
    "        return 1\n",
    "    return 0\n",
    "\n",
    "\n",
    "def date1_of_reviews(x):\n",
    "    if len(x) == 0:\n",
    "        x = None\n",
    "    elif len(x) == 1:\n",
    "        x = pd.to_datetime(x[0])\n",
    "    elif len(x) == 2:\n",
    "        x = pd.to_datetime(x[0])\n",
    "    return x\n",
    "\n",
    "\n",
    "def date2_of_reviews(x):\n",
    "    if len(x) == 2:\n",
    "        x = pd.to_datetime(x[1])\n",
    "    else:\n",
    "        x = None\n",
    "    return x"
   ]
  },
  {
   "cell_type": "code",
   "execution_count": 3,
   "metadata": {},
   "outputs": [],
   "source": [
    "df_train = pd.read_csv(\"main_task.csv\")\n",
    "df_test = pd.read_csv(\"kaggle_task.csv\")\n",
    "sample_submission = pd.read_csv('sample_submission.csv')"
   ]
  },
  {
   "cell_type": "code",
   "execution_count": 4,
   "metadata": {},
   "outputs": [],
   "source": [
    "df_train['sample'] = 1 # помечаем где у нас трейн\n",
    "df_test['sample'] = 0 # помечаем где у нас тест\n",
    "df_test['Rating'] = 0 # в тесте у нас нет значения Rating, мы его должны предсказать, по этому пока просто заполняем нулями"
   ]
  },
  {
   "cell_type": "code",
   "execution_count": 5,
   "metadata": {},
   "outputs": [],
   "source": [
    "df = df_test.append(df_train, sort=False).reset_index(drop=True)"
   ]
  },
  {
   "cell_type": "code",
   "execution_count": 1029,
   "metadata": {},
   "outputs": [
    {
     "name": "stdout",
     "output_type": "stream",
     "text": [
      "<class 'pandas.core.frame.DataFrame'>\n",
      "RangeIndex: 50000 entries, 0 to 49999\n",
      "Data columns (total 11 columns):\n",
      " #   Column             Non-Null Count  Dtype  \n",
      "---  ------             --------------  -----  \n",
      " 0   Restaurant_id      50000 non-null  object \n",
      " 1   City               50000 non-null  object \n",
      " 2   Cuisine Style      38410 non-null  object \n",
      " 3   Ranking            50000 non-null  float64\n",
      " 4   Price Range        32639 non-null  object \n",
      " 5   Number of Reviews  46800 non-null  float64\n",
      " 6   Reviews            49998 non-null  object \n",
      " 7   URL_TA             50000 non-null  object \n",
      " 8   ID_TA              50000 non-null  object \n",
      " 9   sample             50000 non-null  int64  \n",
      " 10  Rating             50000 non-null  float64\n",
      "dtypes: float64(3), int64(1), object(7)\n",
      "memory usage: 4.2+ MB\n"
     ]
    }
   ],
   "source": [
    "df.info()"
   ]
  },
  {
   "cell_type": "markdown",
   "metadata": {},
   "source": [
    "## Информация о пропусках"
   ]
  },
  {
   "cell_type": "code",
   "execution_count": 1030,
   "metadata": {},
   "outputs": [],
   "source": [
    "# Сохраняем информацию о пропусках в отдельные столбцы\n",
    "df['Cuisine_Style_NaN'] = pd.isna(df['Cuisine Style']).astype('float64')\n",
    "df['Price_Range_NaN'] = pd.isna(df['Price Range']).astype('float64')\n",
    "df['Numb_of_Reviews_NaN'] = pd.isna(df['Number of Reviews']).astype('float64')\n",
    "df['Reviews_NaN'] = pd.isna(df['Reviews']).astype('float64')"
   ]
  },
  {
   "cell_type": "markdown",
   "metadata": {},
   "source": [
    "## 1. Restaurant_id\n"
   ]
  },
  {
   "cell_type": "code",
   "execution_count": 1031,
   "metadata": {},
   "outputs": [
    {
     "data": {
      "text/plain": [
       "0           id_0\n",
       "1           id_1\n",
       "2           id_2\n",
       "3           id_3\n",
       "4           id_4\n",
       "          ...   \n",
       "49995     id_499\n",
       "49996    id_6340\n",
       "49997    id_1649\n",
       "49998     id_640\n",
       "49999    id_4824\n",
       "Name: Restaurant_id, Length: 50000, dtype: object"
      ]
     },
     "execution_count": 1031,
     "metadata": {},
     "output_type": "execute_result"
    }
   ],
   "source": [
    "# Обозначает id ресторана\n",
    "df['Restaurant_id']"
   ]
  },
  {
   "cell_type": "markdown",
   "metadata": {},
   "source": [
    "## 2. Cuisine Style"
   ]
  },
  {
   "cell_type": "code",
   "execution_count": 1032,
   "metadata": {},
   "outputs": [
    {
     "data": {
      "text/plain": [
       "0                                           ['Bar', 'Pub']\n",
       "1        ['European', 'Scandinavian', 'Gluten Free Opti...\n",
       "2                                  ['Vegetarian Friendly']\n",
       "3        ['Italian', 'Mediterranean', 'European', 'Vege...\n",
       "4        ['Italian', 'Mediterranean', 'European', 'Seaf...\n",
       "                               ...                        \n",
       "49995    ['Italian', 'Vegetarian Friendly', 'Vegan Opti...\n",
       "49996    ['French', 'American', 'Bar', 'European', 'Veg...\n",
       "49997                                ['Japanese', 'Sushi']\n",
       "49998    ['Polish', 'European', 'Eastern European', 'Ce...\n",
       "49999                                          ['Spanish']\n",
       "Name: Cuisine Style, Length: 50000, dtype: object"
      ]
     },
     "execution_count": 1032,
     "metadata": {},
     "output_type": "execute_result"
    }
   ],
   "source": [
    "# Список кухонь, представленных в ресторане \n",
    "# Необходимо преобразовать данный критерий в dummy variables\n",
    "df['Cuisine Style']"
   ]
  },
  {
   "cell_type": "code",
   "execution_count": 1033,
   "metadata": {},
   "outputs": [],
   "source": [
    "# Преобразуем значения\n",
    "df['Cuisine Style'] = df['Cuisine Style'].str.findall(r\"'(\\b.*?\\b)'\")\n",
    "\n",
    "# Пропущенные значения заменяем на значение other\n",
    "df['Cuisine Style'] = df['Cuisine Style'].fillna('other')\n",
    "\n",
    "cuisines = set() # список всех кухонь\n",
    "for i in df['Cuisine Style']:\n",
    "    if i == 'other':\n",
    "        continue\n",
    "    else:\n",
    "        for x in i:\n",
    "            cuisines.add(x)\n",
    "            \n",
    "# Новый признак: количество кухонь в ресторане\n",
    "df['cuisine_style_count'] = df['Cuisine Style'].apply(\n",
    "    lambda x: 1 if x == 'other' else len(x))\n",
    "\n",
    "# Преобразование в dummy variables вынесено в конец обработки "
   ]
  },
  {
   "cell_type": "markdown",
   "metadata": {},
   "source": [
    "## 3. Price Range\n",
    "\n",
    "\n"
   ]
  },
  {
   "cell_type": "code",
   "execution_count": 1034,
   "metadata": {},
   "outputs": [
    {
     "data": {
      "text/plain": [
       "$$ - $$$    23041\n",
       "$            7816\n",
       "$$$$         1782\n",
       "Name: Price Range, dtype: int64"
      ]
     },
     "execution_count": 1034,
     "metadata": {},
     "output_type": "execute_result"
    }
   ],
   "source": [
    "# В данном критерии представлен ценовой диапазон ресторана\n",
    "df['Price Range'].value_counts()"
   ]
  },
  {
   "cell_type": "code",
   "execution_count": 1035,
   "metadata": {},
   "outputs": [
    {
     "data": {
      "text/plain": [
       "False    32639\n",
       "True     17361\n",
       "Name: Price Range, dtype: int64"
      ]
     },
     "execution_count": 1035,
     "metadata": {},
     "output_type": "execute_result"
    }
   ],
   "source": [
    "# 17361 пропущенных значения\n",
    "df['Price Range'].isna().value_counts()"
   ]
  },
  {
   "cell_type": "code",
   "execution_count": 1036,
   "metadata": {},
   "outputs": [],
   "source": [
    "# Изменим значения в переменной на цифры\n",
    "price_range_dict = {'$': 1, '$$ - $$$': 2, '$$$$': 3}\n",
    "df['Price Range'] = df['Price Range'].map(lambda x: price_range_dict.get(x, x))"
   ]
  },
  {
   "cell_type": "code",
   "execution_count": 1037,
   "metadata": {},
   "outputs": [
    {
     "data": {
      "text/plain": [
       "count    50000.000000\n",
       "mean         1.879320\n",
       "std          0.421189\n",
       "min          1.000000\n",
       "25%          2.000000\n",
       "50%          2.000000\n",
       "75%          2.000000\n",
       "max          3.000000\n",
       "Name: Price Range, dtype: float64"
      ]
     },
     "execution_count": 1037,
     "metadata": {},
     "output_type": "execute_result"
    }
   ],
   "source": [
    "# Заменим пропуски самым частым значением\n",
    "df['Price Range'] = df['Price Range'].fillna(2)\n",
    "df['Price Range'].describe()"
   ]
  },
  {
   "cell_type": "code",
   "execution_count": 1038,
   "metadata": {},
   "outputs": [
    {
     "data": {
      "text/plain": [
       "<matplotlib.axes._subplots.AxesSubplot at 0x1cf0962fa88>"
      ]
     },
     "execution_count": 1038,
     "metadata": {},
     "output_type": "execute_result"
    },
    {
     "data": {
      "image/png": "[encoded data removed]",
      "text/plain": [
       "<Figure size 432x288 with 1 Axes>"
      ]
     },
     "metadata": {
      "needs_background": "light"
     },
     "output_type": "display_data"
    }
   ],
   "source": [
    "df['Price Range'].hist()"
   ]
  },
  {
   "cell_type": "markdown",
   "metadata": {},
   "source": [
    "## 4. Number of Reviews"
   ]
  },
  {
   "cell_type": "code",
   "execution_count": 1039,
   "metadata": {},
   "outputs": [
    {
     "data": {
      "text/plain": [
       "False    46800\n",
       "True      3200\n",
       "Name: Number of Reviews, dtype: int64"
      ]
     },
     "execution_count": 1039,
     "metadata": {},
     "output_type": "execute_result"
    }
   ],
   "source": [
    "# 3200 пропущенных значения\n",
    "df['Number of Reviews'].isna().value_counts()"
   ]
  },
  {
   "cell_type": "code",
   "execution_count": 1040,
   "metadata": {},
   "outputs": [
    {
     "data": {
      "text/plain": [
       "count    46800.000000\n",
       "mean       124.471197\n",
       "std        294.114345\n",
       "min          2.000000\n",
       "25%          9.000000\n",
       "50%         33.000000\n",
       "75%        115.000000\n",
       "max       9660.000000\n",
       "Name: Number of Reviews, dtype: float64"
      ]
     },
     "metadata": {},
     "output_type": "display_data"
    },
    {
     "name": "stderr",
     "output_type": "stream",
     "text": [
      "C:\\Users\\yurac\\anaconda3\\lib\\site-packages\\numpy\\lib\\histograms.py:839: RuntimeWarning: invalid value encountered in greater_equal\n",
      "  keep = (tmp_a >= first_edge)\n",
      "C:\\Users\\yurac\\anaconda3\\lib\\site-packages\\numpy\\lib\\histograms.py:840: RuntimeWarning: invalid value encountered in less_equal\n",
      "  keep &= (tmp_a <= last_edge)\n"
     ]
    },
    {
     "name": "stdout",
     "output_type": "stream",
     "text": [
      "Медиана: 33.0 25-й перцентиль: 9.0, 75-й перцентиль: 115.0, IQR: 106.0,  Границы выбросов: [-150.0, 274.0].\n",
      "Для логарифма:\n",
      " Медиана: 3.4965075614664802 25-й перцентиль: 2.1972245773362196, 75-й перцентиль: 4.74493212836325, IQR: 2.5477075510270306,  Границы выбросов: [-1.6243367492043261, 8.566493454903796].\n"
     ]
    },
    {
     "data": {
      "image/png": "[encoded data removed]",
      "text/plain": [
       "<Figure size 864x288 with 3 Axes>"
      ]
     },
     "metadata": {
      "needs_background": "light"
     },
     "output_type": "display_data"
    }
   ],
   "source": [
    "# основная информация\n",
    "basic_inf(df['Number of Reviews'])"
   ]
  },
  {
   "cell_type": "code",
   "execution_count": 1041,
   "metadata": {},
   "outputs": [
    {
     "data": {
      "text/html": [
       "<div>\n",
       "<style scoped>\n",
       "    .dataframe tbody tr th:only-of-type {\n",
       "        vertical-align: middle;\n",
       "    }\n",
       "\n",
       "    .dataframe tbody tr th {\n",
       "        vertical-align: top;\n",
       "    }\n",
       "\n",
       "    .dataframe thead th {\n",
       "        text-align: right;\n",
       "    }\n",
       "</style>\n",
       "<table border=\"1\" class=\"dataframe\">\n",
       "  <thead>\n",
       "    <tr style=\"text-align: right;\">\n",
       "      <th></th>\n",
       "      <th>Restaurant_id</th>\n",
       "      <th>City</th>\n",
       "      <th>Cuisine Style</th>\n",
       "      <th>Ranking</th>\n",
       "      <th>Price Range</th>\n",
       "      <th>Number of Reviews</th>\n",
       "      <th>Reviews</th>\n",
       "      <th>URL_TA</th>\n",
       "      <th>ID_TA</th>\n",
       "      <th>sample</th>\n",
       "      <th>Rating</th>\n",
       "      <th>Cuisine_Style_NaN</th>\n",
       "      <th>Price_Range_NaN</th>\n",
       "      <th>Numb_of_Reviews_NaN</th>\n",
       "      <th>Reviews_NaN</th>\n",
       "      <th>cuisine_style_count</th>\n",
       "    </tr>\n",
       "  </thead>\n",
       "  <tbody>\n",
       "    <tr>\n",
       "      <th>5295</th>\n",
       "      <td>id_5295</td>\n",
       "      <td>Brussels</td>\n",
       "      <td>[French, Belgian, Seafood, European]</td>\n",
       "      <td>189.0</td>\n",
       "      <td>2.0</td>\n",
       "      <td>6437.0</td>\n",
       "      <td>[['Interesting restaurant, not sure of the fu....</td>\n",
       "      <td>/Restaurant_Review-g188644-d694788-Reviews-Che...</td>\n",
       "      <td>d694788</td>\n",
       "      <td>0</td>\n",
       "      <td>0.0</td>\n",
       "      <td>0.0</td>\n",
       "      <td>0.0</td>\n",
       "      <td>0.0</td>\n",
       "      <td>0.0</td>\n",
       "      <td>4</td>\n",
       "    </tr>\n",
       "    <tr>\n",
       "      <th>14817</th>\n",
       "      <td>id_144</td>\n",
       "      <td>Rome</td>\n",
       "      <td>[Italian, Mediterranean, European, Vegetarian ...</td>\n",
       "      <td>145.0</td>\n",
       "      <td>2.0</td>\n",
       "      <td>5927.0</td>\n",
       "      <td>[['Incredible food!', 'That is a more :-)'], [...</td>\n",
       "      <td>/Restaurant_Review-g187791-d1207928-Reviews-Th...</td>\n",
       "      <td>d1207928</td>\n",
       "      <td>1</td>\n",
       "      <td>4.5</td>\n",
       "      <td>0.0</td>\n",
       "      <td>0.0</td>\n",
       "      <td>0.0</td>\n",
       "      <td>0.0</td>\n",
       "      <td>5</td>\n",
       "    </tr>\n",
       "    <tr>\n",
       "      <th>18516</th>\n",
       "      <td>id_266</td>\n",
       "      <td>Amsterdam</td>\n",
       "      <td>[Barbecue, American, Vegetarian Friendly, Vega...</td>\n",
       "      <td>267.0</td>\n",
       "      <td>2.0</td>\n",
       "      <td>6777.0</td>\n",
       "      <td>[['Love ! Food and cocktails amazing!', 'As al...</td>\n",
       "      <td>/Restaurant_Review-g188590-d1010937-Reviews-Ha...</td>\n",
       "      <td>d1010937</td>\n",
       "      <td>1</td>\n",
       "      <td>4.0</td>\n",
       "      <td>0.0</td>\n",
       "      <td>0.0</td>\n",
       "      <td>0.0</td>\n",
       "      <td>0.0</td>\n",
       "      <td>5</td>\n",
       "    </tr>\n",
       "    <tr>\n",
       "      <th>25779</th>\n",
       "      <td>id_430</td>\n",
       "      <td>Paris</td>\n",
       "      <td>[French, European, Contemporary, Vegetarian Fr...</td>\n",
       "      <td>431.0</td>\n",
       "      <td>3.0</td>\n",
       "      <td>7622.0</td>\n",
       "      <td>[['This night is not about the meal, it is ab....</td>\n",
       "      <td>/Restaurant_Review-g187147-d736855-Reviews-58_...</td>\n",
       "      <td>d736855</td>\n",
       "      <td>1</td>\n",
       "      <td>4.0</td>\n",
       "      <td>0.0</td>\n",
       "      <td>0.0</td>\n",
       "      <td>0.0</td>\n",
       "      <td>0.0</td>\n",
       "      <td>4</td>\n",
       "    </tr>\n",
       "    <tr>\n",
       "      <th>26433</th>\n",
       "      <td>id_12</td>\n",
       "      <td>Budapest</td>\n",
       "      <td>[Hungarian, Vegetarian Friendly, Vegan Options]</td>\n",
       "      <td>13.0</td>\n",
       "      <td>2.0</td>\n",
       "      <td>7575.0</td>\n",
       "      <td>[['Traditional food, all local and great', 'Co...</td>\n",
       "      <td>/Restaurant_Review-g274887-d3351231-Reviews-Hu...</td>\n",
       "      <td>d3351231</td>\n",
       "      <td>1</td>\n",
       "      <td>4.5</td>\n",
       "      <td>0.0</td>\n",
       "      <td>0.0</td>\n",
       "      <td>0.0</td>\n",
       "      <td>0.0</td>\n",
       "      <td>3</td>\n",
       "    </tr>\n",
       "    <tr>\n",
       "      <th>28450</th>\n",
       "      <td>id_324</td>\n",
       "      <td>Madrid</td>\n",
       "      <td>[Bar, Mediterranean, European, Spanish]</td>\n",
       "      <td>325.0</td>\n",
       "      <td>1.0</td>\n",
       "      <td>6013.0</td>\n",
       "      <td>[['Good bar and menu options', 'Ham Museum is ...</td>\n",
       "      <td>/Restaurant_Review-g187514-d1737081-Reviews-Mu...</td>\n",
       "      <td>d1737081</td>\n",
       "      <td>1</td>\n",
       "      <td>4.0</td>\n",
       "      <td>0.0</td>\n",
       "      <td>0.0</td>\n",
       "      <td>0.0</td>\n",
       "      <td>0.0</td>\n",
       "      <td>4</td>\n",
       "    </tr>\n",
       "    <tr>\n",
       "      <th>29251</th>\n",
       "      <td>id_375</td>\n",
       "      <td>London</td>\n",
       "      <td>[British, Vegetarian Friendly, Gluten Free Opt...</td>\n",
       "      <td>376.0</td>\n",
       "      <td>3.0</td>\n",
       "      <td>9660.0</td>\n",
       "      <td>[['Lovely setting and decent food', 'A Christm...</td>\n",
       "      <td>/Restaurant_Review-g186338-d1421189-Reviews-Lo...</td>\n",
       "      <td>d1421189</td>\n",
       "      <td>1</td>\n",
       "      <td>4.0</td>\n",
       "      <td>0.0</td>\n",
       "      <td>0.0</td>\n",
       "      <td>0.0</td>\n",
       "      <td>0.0</td>\n",
       "      <td>3</td>\n",
       "    </tr>\n",
       "    <tr>\n",
       "      <th>31860</th>\n",
       "      <td>id_714</td>\n",
       "      <td>Milan</td>\n",
       "      <td>[Italian, Pizza, Seafood, Fast Food, Mediterra...</td>\n",
       "      <td>716.0</td>\n",
       "      <td>2.0</td>\n",
       "      <td>5870.0</td>\n",
       "      <td>[['Regional cuisine', 'Nice lunch'], ['01/01/2...</td>\n",
       "      <td>/Restaurant_Review-g187849-d2219219-Reviews-Ea...</td>\n",
       "      <td>d2219219</td>\n",
       "      <td>1</td>\n",
       "      <td>3.5</td>\n",
       "      <td>0.0</td>\n",
       "      <td>0.0</td>\n",
       "      <td>0.0</td>\n",
       "      <td>0.0</td>\n",
       "      <td>10</td>\n",
       "    </tr>\n",
       "    <tr>\n",
       "      <th>37027</th>\n",
       "      <td>id_64</td>\n",
       "      <td>Rome</td>\n",
       "      <td>[Italian, Vegetarian Friendly, Vegan Options, ...</td>\n",
       "      <td>65.0</td>\n",
       "      <td>2.0</td>\n",
       "      <td>8927.0</td>\n",
       "      <td>[['Best Service !!!!', 'Simply amazing!'], ['0...</td>\n",
       "      <td>/Restaurant_Review-g187791-d2094750-Reviews-Ca...</td>\n",
       "      <td>d2094750</td>\n",
       "      <td>1</td>\n",
       "      <td>4.5</td>\n",
       "      <td>0.0</td>\n",
       "      <td>0.0</td>\n",
       "      <td>0.0</td>\n",
       "      <td>0.0</td>\n",
       "      <td>4</td>\n",
       "    </tr>\n",
       "    <tr>\n",
       "      <th>42909</th>\n",
       "      <td>id_630</td>\n",
       "      <td>Milan</td>\n",
       "      <td>[Pizza, Vegetarian Friendly]</td>\n",
       "      <td>632.0</td>\n",
       "      <td>1.0</td>\n",
       "      <td>6360.0</td>\n",
       "      <td>[['Good pizza', 'Mmmm delicious'], ['01/09/201...</td>\n",
       "      <td>/Restaurant_Review-g187849-d1097521-Reviews-Pi...</td>\n",
       "      <td>d1097521</td>\n",
       "      <td>1</td>\n",
       "      <td>3.5</td>\n",
       "      <td>0.0</td>\n",
       "      <td>0.0</td>\n",
       "      <td>0.0</td>\n",
       "      <td>0.0</td>\n",
       "      <td>2</td>\n",
       "    </tr>\n",
       "    <tr>\n",
       "      <th>49071</th>\n",
       "      <td>id_2510</td>\n",
       "      <td>Rome</td>\n",
       "      <td>[Italian, Pizza, Mediterranean, European, Soup...</td>\n",
       "      <td>2511.0</td>\n",
       "      <td>1.0</td>\n",
       "      <td>6309.0</td>\n",
       "      <td>[['Very good value for money', 'Good food at r...</td>\n",
       "      <td>/Restaurant_Review-g187791-d1034580-Reviews-Ri...</td>\n",
       "      <td>d1034580</td>\n",
       "      <td>1</td>\n",
       "      <td>3.5</td>\n",
       "      <td>0.0</td>\n",
       "      <td>0.0</td>\n",
       "      <td>0.0</td>\n",
       "      <td>0.0</td>\n",
       "      <td>8</td>\n",
       "    </tr>\n",
       "  </tbody>\n",
       "</table>\n",
       "</div>"
      ],
      "text/plain": [
       "      Restaurant_id       City  \\\n",
       "5295        id_5295   Brussels   \n",
       "14817        id_144       Rome   \n",
       "18516        id_266  Amsterdam   \n",
       "25779        id_430      Paris   \n",
       "26433         id_12   Budapest   \n",
       "28450        id_324     Madrid   \n",
       "29251        id_375     London   \n",
       "31860        id_714      Milan   \n",
       "37027         id_64       Rome   \n",
       "42909        id_630      Milan   \n",
       "49071       id_2510       Rome   \n",
       "\n",
       "                                           Cuisine Style  Ranking  \\\n",
       "5295                [French, Belgian, Seafood, European]    189.0   \n",
       "14817  [Italian, Mediterranean, European, Vegetarian ...    145.0   \n",
       "18516  [Barbecue, American, Vegetarian Friendly, Vega...    267.0   \n",
       "25779  [French, European, Contemporary, Vegetarian Fr...    431.0   \n",
       "26433    [Hungarian, Vegetarian Friendly, Vegan Options]     13.0   \n",
       "28450            [Bar, Mediterranean, European, Spanish]    325.0   \n",
       "29251  [British, Vegetarian Friendly, Gluten Free Opt...    376.0   \n",
       "31860  [Italian, Pizza, Seafood, Fast Food, Mediterra...    716.0   \n",
       "37027  [Italian, Vegetarian Friendly, Vegan Options, ...     65.0   \n",
       "42909                       [Pizza, Vegetarian Friendly]    632.0   \n",
       "49071  [Italian, Pizza, Mediterranean, European, Soup...   2511.0   \n",
       "\n",
       "       Price Range  Number of Reviews  \\\n",
       "5295           2.0             6437.0   \n",
       "14817          2.0             5927.0   \n",
       "18516          2.0             6777.0   \n",
       "25779          3.0             7622.0   \n",
       "26433          2.0             7575.0   \n",
       "28450          1.0             6013.0   \n",
       "29251          3.0             9660.0   \n",
       "31860          2.0             5870.0   \n",
       "37027          2.0             8927.0   \n",
       "42909          1.0             6360.0   \n",
       "49071          1.0             6309.0   \n",
       "\n",
       "                                                 Reviews  \\\n",
       "5295   [['Interesting restaurant, not sure of the fu....   \n",
       "14817  [['Incredible food!', 'That is a more :-)'], [...   \n",
       "18516  [['Love ! Food and cocktails amazing!', 'As al...   \n",
       "25779  [['This night is not about the meal, it is ab....   \n",
       "26433  [['Traditional food, all local and great', 'Co...   \n",
       "28450  [['Good bar and menu options', 'Ham Museum is ...   \n",
       "29251  [['Lovely setting and decent food', 'A Christm...   \n",
       "31860  [['Regional cuisine', 'Nice lunch'], ['01/01/2...   \n",
       "37027  [['Best Service !!!!', 'Simply amazing!'], ['0...   \n",
       "42909  [['Good pizza', 'Mmmm delicious'], ['01/09/201...   \n",
       "49071  [['Very good value for money', 'Good food at r...   \n",
       "\n",
       "                                                  URL_TA     ID_TA  sample  \\\n",
       "5295   /Restaurant_Review-g188644-d694788-Reviews-Che...   d694788       0   \n",
       "14817  /Restaurant_Review-g187791-d1207928-Reviews-Th...  d1207928       1   \n",
       "18516  /Restaurant_Review-g188590-d1010937-Reviews-Ha...  d1010937       1   \n",
       "25779  /Restaurant_Review-g187147-d736855-Reviews-58_...   d736855       1   \n",
       "26433  /Restaurant_Review-g274887-d3351231-Reviews-Hu...  d3351231       1   \n",
       "28450  /Restaurant_Review-g187514-d1737081-Reviews-Mu...  d1737081       1   \n",
       "29251  /Restaurant_Review-g186338-d1421189-Reviews-Lo...  d1421189       1   \n",
       "31860  /Restaurant_Review-g187849-d2219219-Reviews-Ea...  d2219219       1   \n",
       "37027  /Restaurant_Review-g187791-d2094750-Reviews-Ca...  d2094750       1   \n",
       "42909  /Restaurant_Review-g187849-d1097521-Reviews-Pi...  d1097521       1   \n",
       "49071  /Restaurant_Review-g187791-d1034580-Reviews-Ri...  d1034580       1   \n",
       "\n",
       "       Rating  Cuisine_Style_NaN  Price_Range_NaN  Numb_of_Reviews_NaN  \\\n",
       "5295      0.0                0.0              0.0                  0.0   \n",
       "14817     4.5                0.0              0.0                  0.0   \n",
       "18516     4.0                0.0              0.0                  0.0   \n",
       "25779     4.0                0.0              0.0                  0.0   \n",
       "26433     4.5                0.0              0.0                  0.0   \n",
       "28450     4.0                0.0              0.0                  0.0   \n",
       "29251     4.0                0.0              0.0                  0.0   \n",
       "31860     3.5                0.0              0.0                  0.0   \n",
       "37027     4.5                0.0              0.0                  0.0   \n",
       "42909     3.5                0.0              0.0                  0.0   \n",
       "49071     3.5                0.0              0.0                  0.0   \n",
       "\n",
       "       Reviews_NaN  cuisine_style_count  \n",
       "5295           0.0                    4  \n",
       "14817          0.0                    5  \n",
       "18516          0.0                    5  \n",
       "25779          0.0                    4  \n",
       "26433          0.0                    3  \n",
       "28450          0.0                    4  \n",
       "29251          0.0                    3  \n",
       "31860          0.0                   10  \n",
       "37027          0.0                    4  \n",
       "42909          0.0                    2  \n",
       "49071          0.0                    8  "
      ]
     },
     "metadata": {},
     "output_type": "display_data"
    }
   ],
   "source": [
    "# Выбросы\n",
    "display(df[np.log(df['Number of Reviews']) > 8.56])\n",
    "# Заменим выбросы на значение 0\n",
    "df.loc[np.log(df['Number of Reviews']) > 8.56, 'Number of Reviews'] = 0"
   ]
  },
  {
   "cell_type": "code",
   "execution_count": 1042,
   "metadata": {},
   "outputs": [],
   "source": [
    "# Пропущенные значения заменим медианой\n",
    "df['Number of Reviews'].fillna(df['Number of Reviews'].median(), inplace=True)"
   ]
  },
  {
   "cell_type": "code",
   "execution_count": 1043,
   "metadata": {},
   "outputs": [],
   "source": [
    "# Новый признак: как часто встречается такое количество отзывов\n",
    "df['frec_of_review'] = df['Number of Reviews'].map(\n",
    "    df['Number of Reviews'].value_counts().to_dict())"
   ]
  },
  {
   "cell_type": "code",
   "execution_count": 1044,
   "metadata": {},
   "outputs": [
    {
     "data": {
      "text/plain": [
       "City\n",
       "Amsterdam     137.983965\n",
       "Athens         89.664948\n",
       "Barcelona     128.726657\n",
       "Berlin         60.814418\n",
       "Bratislava     48.823684\n",
       "Brussels       83.935312\n",
       "Budapest      140.674829\n",
       "Copenhagen     91.724054\n",
       "Dublin        148.473684\n",
       "Edinburgh     231.940940\n",
       "Geneva         60.096610\n",
       "Hamburg        44.196459\n",
       "Helsinki       64.073684\n",
       "Krakow        124.229242\n",
       "Lisbon        121.438980\n",
       "Ljubljana      84.522523\n",
       "London        130.423328\n",
       "Luxembourg     80.783270\n",
       "Lyon           84.816163\n",
       "Madrid         94.158405\n",
       "Milan         157.180030\n",
       "Munich         74.373799\n",
       "Oporto        127.373832\n",
       "Oslo           96.983607\n",
       "Paris         111.789129\n",
       "Prague        113.861233\n",
       "Rome          274.074932\n",
       "Stockholm      71.888674\n",
       "Vienna         76.647956\n",
       "Warsaw         63.571892\n",
       "Zurich         70.202920\n",
       "Name: Number of Reviews, dtype: float64"
      ]
     },
     "execution_count": 1044,
     "metadata": {},
     "output_type": "execute_result"
    }
   ],
   "source": [
    "df.groupby(['City'])['Number of Reviews'].mean()\n",
    "# В Риме в среднем больше всего отзывов"
   ]
  },
  {
   "cell_type": "code",
   "execution_count": 1045,
   "metadata": {},
   "outputs": [],
   "source": [
    "# Новый признак: среднее количество отзывов в городе\n",
    "df['mean_rev_in_city'] = df['City'].map(\n",
    "    df.groupby(['City'])['Number of Reviews'].mean().to_dict())"
   ]
  },
  {
   "cell_type": "markdown",
   "metadata": {},
   "source": [
    "## 5. Reviews\n"
   ]
  },
  {
   "cell_type": "code",
   "execution_count": 1046,
   "metadata": {},
   "outputs": [
    {
     "data": {
      "text/plain": [
       "count        49998\n",
       "unique       41857\n",
       "top       [[], []]\n",
       "freq          8112\n",
       "Name: Reviews, dtype: object"
      ]
     },
     "execution_count": 1046,
     "metadata": {},
     "output_type": "execute_result"
    }
   ],
   "source": [
    "# 8112 строк со значением '[[], []]'\n",
    "df['Reviews'].describe()"
   ]
  },
  {
   "cell_type": "code",
   "execution_count": 1047,
   "metadata": {},
   "outputs": [
    {
     "data": {
      "text/plain": [
       "False    49998\n",
       "True         2\n",
       "Name: Reviews, dtype: int64"
      ]
     },
     "execution_count": 1047,
     "metadata": {},
     "output_type": "execute_result"
    }
   ],
   "source": [
    "# Существует два пропуска\n",
    "df['Reviews'].isnull().value_counts()"
   ]
  },
  {
   "cell_type": "code",
   "execution_count": 1048,
   "metadata": {},
   "outputs": [],
   "source": [
    "# Заменим их на '[[], []]'\n",
    "df['Reviews'] = df['Reviews'].fillna('[[], []]')\n",
    "# Сохраним информацию о пустых отзывах в отдельную переменную\n",
    "df['empty_reviews'] = (df['Reviews']=='[[], []]').astype('float64')\n",
    "# вытащим дату из отзывов \n",
    "df['date_of_reviews'] = df['Reviews'].str.findall(r'\\d+/\\d+/\\d{4}')\n",
    "# Новый критерий для проверки: длина даты\n",
    "df['len_date_of_reviews'] = df['date_of_reviews'].apply(lambda x: len(x))"
   ]
  },
  {
   "cell_type": "code",
   "execution_count": 1051,
   "metadata": {},
   "outputs": [
    {
     "data": {
      "text/plain": [
       "2    36203\n",
       "0     8114\n",
       "1     5680\n",
       "3        3\n",
       "Name: len_date_of_reviews, dtype: int64"
      ]
     },
     "execution_count": 1051,
     "metadata": {},
     "output_type": "execute_result"
    }
   ],
   "source": [
    "# Существует 3 строки со значением 3\n",
    "df['len_date_of_reviews'].value_counts()"
   ]
  },
  {
   "cell_type": "code",
   "execution_count": 1052,
   "metadata": {},
   "outputs": [
    {
     "data": {
      "text/plain": [
       "[\"[['Good Museum Cafeteria', 'Lunch 30/5/2017'], ['04/13/2017', '05/30/2017']]\",\n",
       " \"[['The desserts arcade !', 'Visit today 3/1/2017'], ['06/02/2017', '01/03/2017']]\",\n",
       " \"[['lunch 29/9/2016', 'Unplanned Great Dinner'], ['09/30/2016', '08/25/2016']]\"]"
      ]
     },
     "execution_count": 1052,
     "metadata": {},
     "output_type": "execute_result"
    }
   ],
   "source": [
    "# Это даты, написанные в самом отзыве, они некорректны и стоит их удалить\n",
    "df[df['len_date_of_reviews'] == 3]['Reviews'].to_list()"
   ]
  },
  {
   "cell_type": "code",
   "execution_count": 1053,
   "metadata": {},
   "outputs": [],
   "source": [
    "df['len_date_of_reviews'].date_of_reviews = df[df['len_date_of_reviews']== 3\n",
    "                                              ].date_of_reviews.apply(\n",
    "                                                lambda x: x.pop(0))"
   ]
  },
  {
   "cell_type": "code",
   "execution_count": 1054,
   "metadata": {},
   "outputs": [],
   "source": [
    "# Вынесем даты в отдельные столбцы\n",
    "df['date_1'] = df['date_of_reviews'].apply(date1_of_reviews)\n",
    "df['date_2'] = df['date_of_reviews'].apply(date2_of_reviews)"
   ]
  },
  {
   "cell_type": "code",
   "execution_count": 1055,
   "metadata": {},
   "outputs": [],
   "source": [
    "# Информацию о пропусках сохраним в отдельные переменные\n",
    "df['date_1_Nan'] = pd.isna(df['date_1']).astype('float64')\n",
    "df['date_2_Nan'] = pd.isna(df['date_2']).astype('float64')\n",
    "# Создадим новый критерий: разница между отзывами в днях\n",
    "df['time_delta'] = abs(df['date_1']-df['date_2'])\n",
    "df['time_delta_days'] = df['time_delta'].apply(lambda x: x.days)\n",
    "df.drop(['time_delta'], axis=1, inplace=True)\n",
    "# Сохраним информацию о пропусках\n",
    "df['time_delta_days_Nan'] = pd.isna(df['time_delta_days']).astype('float64')"
   ]
  },
  {
   "cell_type": "code",
   "execution_count": 1056,
   "metadata": {},
   "outputs": [],
   "source": []
  },
  {
   "cell_type": "code",
   "execution_count": 1057,
   "metadata": {},
   "outputs": [
    {
     "data": {
      "text/plain": [
       "count                   41886\n",
       "unique                   1976\n",
       "top       2018-01-07 00:00:00\n",
       "freq                      607\n",
       "first     2004-04-21 00:00:00\n",
       "last      2018-02-26 00:00:00\n",
       "Name: date_1, dtype: object"
      ]
     },
     "execution_count": 1057,
     "metadata": {},
     "output_type": "execute_result"
    }
   ],
   "source": [
    "df['date_1'].describe()"
   ]
  },
  {
   "cell_type": "code",
   "execution_count": 1058,
   "metadata": {},
   "outputs": [
    {
     "data": {
      "text/plain": [
       "count                   36206\n",
       "unique                   2069\n",
       "top       2018-01-03 00:00:00\n",
       "freq                      250\n",
       "first     2007-11-14 00:00:00\n",
       "last      2018-02-26 00:00:00\n",
       "Name: date_2, dtype: object"
      ]
     },
     "execution_count": 1058,
     "metadata": {},
     "output_type": "execute_result"
    }
   ],
   "source": [
    "df['date_2'].describe()"
   ]
  },
  {
   "cell_type": "code",
   "execution_count": 1059,
   "metadata": {},
   "outputs": [
    {
     "data": {
      "text/plain": [
       "count    36206.000000\n",
       "mean       142.548832\n",
       "std        222.554361\n",
       "min          0.000000\n",
       "25%         20.000000\n",
       "50%         67.000000\n",
       "75%        173.000000\n",
       "max       3296.000000\n",
       "Name: time_delta_days, dtype: float64"
      ]
     },
     "execution_count": 1059,
     "metadata": {},
     "output_type": "execute_result"
    }
   ],
   "source": [
    "df['time_delta_days'].describe()"
   ]
  },
  {
   "cell_type": "code",
   "execution_count": 1060,
   "metadata": {},
   "outputs": [],
   "source": [
    "# Создадим новые критерии: сколько времени прошло с момента написания отзыва\n",
    "today = '11/25/2020'\n",
    "today = datetime.strptime(today, '%m/%d/%Y')\n",
    "df['date_1_to_now'] = df['date_1'].apply(lambda x: (today-x).days)\n",
    "df['date_2_to_now'] = df['date_2'].apply(lambda x: (today-x).days)"
   ]
  },
  {
   "cell_type": "code",
   "execution_count": 1061,
   "metadata": {},
   "outputs": [
    {
     "data": {
      "text/plain": [
       "count    41886.000000\n",
       "mean      1300.746264\n",
       "std        361.495337\n",
       "min       1003.000000\n",
       "25%       1085.000000\n",
       "50%       1171.000000\n",
       "75%       1358.000000\n",
       "max       6062.000000\n",
       "Name: date_1_to_now, dtype: float64"
      ]
     },
     "metadata": {},
     "output_type": "display_data"
    },
    {
     "name": "stderr",
     "output_type": "stream",
     "text": [
      "C:\\Users\\yurac\\anaconda3\\lib\\site-packages\\numpy\\lib\\histograms.py:839: RuntimeWarning: invalid value encountered in greater_equal\n",
      "  keep = (tmp_a >= first_edge)\n",
      "C:\\Users\\yurac\\anaconda3\\lib\\site-packages\\numpy\\lib\\histograms.py:840: RuntimeWarning: invalid value encountered in less_equal\n",
      "  keep &= (tmp_a <= last_edge)\n"
     ]
    },
    {
     "name": "stdout",
     "output_type": "stream",
     "text": [
      "Медиана: 1171.0 25-й перцентиль: 1085.0, 75-й перцентиль: 1358.0, IQR: 273.0,  Границы выбросов: [675.5, 1767.5].\n",
      "Для логарифма:\n",
      " Медиана: 7.065613363597717 25-й перцентиль: 6.98933526597456, 75-й перцентиль: 7.213768308118642, IQR: 0.22443304214408144,  Границы выбросов: [6.652685702758438, 7.550417871334764].\n"
     ]
    },
    {
     "data": {
      "image/png": "[encoded data removed]",
      "text/plain": [
       "<Figure size 864x288 with 3 Axes>"
      ]
     },
     "metadata": {
      "needs_background": "light"
     },
     "output_type": "display_data"
    }
   ],
   "source": [
    "basic_inf(df['date_1_to_now']"
   ]
  },
  {
   "cell_type": "code",
   "execution_count": 1062,
   "metadata": {},
   "outputs": [
    {
     "data": {
      "text/plain": [
       "count    36206.000000\n",
       "mean      1370.178037\n",
       "std        397.426626\n",
       "min       1003.000000\n",
       "25%       1120.000000\n",
       "50%       1233.000000\n",
       "75%       1471.000000\n",
       "max       4760.000000\n",
       "Name: date_2_to_now, dtype: float64"
      ]
     },
     "metadata": {},
     "output_type": "display_data"
    },
    {
     "name": "stderr",
     "output_type": "stream",
     "text": [
      "C:\\Users\\yurac\\anaconda3\\lib\\site-packages\\numpy\\lib\\histograms.py:839: RuntimeWarning: invalid value encountered in greater_equal\n",
      "  keep = (tmp_a >= first_edge)\n",
      "C:\\Users\\yurac\\anaconda3\\lib\\site-packages\\numpy\\lib\\histograms.py:840: RuntimeWarning: invalid value encountered in less_equal\n",
      "  keep &= (tmp_a <= last_edge)\n"
     ]
    },
    {
     "name": "stdout",
     "output_type": "stream",
     "text": [
      "Медиана: 1233.0 25-й перцентиль: 1120.0, 75-й перцентиль: 1471.0, IQR: 351.0,  Границы выбросов: [593.5, 1997.5].\n",
      "Для логарифма:\n",
      " Медиана: 7.117205503164344 25-й перцентиль: 7.02108396428914, 75-й перцентиль: 7.293697720601438, IQR: 0.2726137563122979,  Границы выбросов: [6.612163329820693, 7.702618355069885].\n"
     ]
    },
    {
     "data": {
      "image/png": "[encoded data removed]",
      "text/plain": [
       "<Figure size 864x288 with 3 Axes>"
      ]
     },
     "metadata": {
      "needs_background": "light"
     },
     "output_type": "display_data"
    }
   ],
   "source": [
    "# Так как сайт TripAdvisor работает с 200 года, то все выбросы вполне логичны\n",
    "basic_inf(df['date_2_to_now'])"
   ]
  },
  {
   "cell_type": "code",
   "execution_count": 1063,
   "metadata": {},
   "outputs": [],
   "source": [
    "#df.drop(['date_1'], axis=1, inplace = True)\n",
    "#df.drop(['date_2'], axis=1, inplace = True)\n"
   ]
  },
  {
   "cell_type": "code",
   "execution_count": 1064,
   "metadata": {},
   "outputs": [],
   "source": [
    "# Сохраним информацию о пропусках\n",
    "df['date_1_to_now_Nan'] = pd.isna(df['date_1_to_now']).astype('float64')\n",
    "df['date_2_to_now_Nan'] = pd.isna(df['date_2_to_now']).astype('float64')"
   ]
  },
  {
   "cell_type": "code",
   "execution_count": 1065,
   "metadata": {},
   "outputs": [],
   "source": [
    "# Заменим пропуски 0\n",
    "df['date_1'] = df['date_1'].fillna(0)\n",
    "df['date_2'] = df['date_2'].fillna(0)\n",
    "df['date_1_to_now'] = df['date_1_to_now'].fillna(0)\n",
    "df['date_2_to_now'] = df['date_2_to_now'].fillna(0)\n",
    "df['time_delta_days'] = df['time_delta_days'].fillna(0)"
   ]
  },
  {
   "cell_type": "code",
   "execution_count": 1066,
   "metadata": {},
   "outputs": [
    {
     "data": {
      "text/plain": [
       "0           0.0\n",
       "1        1123.0\n",
       "2        1085.0\n",
       "3        1099.0\n",
       "4        1036.0\n",
       "          ...  \n",
       "49995    1109.0\n",
       "49996    1079.0\n",
       "49997    4610.0\n",
       "49998    1256.0\n",
       "49999    3066.0\n",
       "Name: date_2_to_now, Length: 50000, dtype: float64"
      ]
     },
     "execution_count": 1066,
     "metadata": {},
     "output_type": "execute_result"
    }
   ],
   "source": []
  },
  {
   "cell_type": "markdown",
   "metadata": {},
   "source": [
    "## 6. ID_TA"
   ]
  },
  {
   "cell_type": "code",
   "execution_count": 1090,
   "metadata": {},
   "outputs": [
    {
     "data": {
      "text/plain": [
       "0        d10746918\n",
       "1         d6674944\n",
       "2        d13129638\n",
       "3          d680417\n",
       "4         d1112354\n",
       "           ...    \n",
       "49995     d2104414\n",
       "49996     d1800036\n",
       "49997      d947615\n",
       "49998     d1100838\n",
       "49999     d1109020\n",
       "Name: ID_TA, Length: 50000, dtype: object"
      ]
     },
     "execution_count": 1090,
     "metadata": {},
     "output_type": "execute_result"
    }
   ],
   "source": [
    "# ID ресторана в TripAdvisor\n",
    "df['ID_TA']"
   ]
  },
  {
   "cell_type": "markdown",
   "metadata": {},
   "source": [
    "## 7. URL_TA "
   ]
  },
  {
   "cell_type": "code",
   "execution_count": 7,
   "metadata": {},
   "outputs": [
    {
     "data": {
      "text/plain": [
       "0        /Restaurant_Review-g187147-d10746918-Reviews-L...\n",
       "1        /Restaurant_Review-g189934-d6674944-Reviews-Ra...\n",
       "2        /Restaurant_Review-g186525-d13129638-Reviews-B...\n",
       "3        /Restaurant_Review-g186338-d680417-Reviews-Qui...\n",
       "4        /Restaurant_Review-g274924-d1112354-Reviews-Ma...\n",
       "                               ...                        \n",
       "49995    /Restaurant_Review-g187849-d2104414-Reviews-Ro...\n",
       "49996    /Restaurant_Review-g187147-d1800036-Reviews-La...\n",
       "49997    /Restaurant_Review-g189852-d947615-Reviews-Sus...\n",
       "49998    /Restaurant_Review-g274856-d1100838-Reviews-Ho...\n",
       "49999    /Restaurant_Review-g187849-d1109020-Reviews-Ta...\n",
       "Name: URL_TA, Length: 50000, dtype: object"
      ]
     },
     "execution_count": 7,
     "metadata": {},
     "output_type": "execute_result"
    }
   ],
   "source": [
    "#  страница ресторана на 'www.tripadvisor.com\n",
    "df['URL_TA']"
   ]
  },
  {
   "cell_type": "markdown",
   "metadata": {},
   "source": [
    "## 8. City"
   ]
  },
  {
   "cell_type": "code",
   "execution_count": 1067,
   "metadata": {},
   "outputs": [
    {
     "data": {
      "text/plain": [
       "31"
      ]
     },
     "execution_count": 1067,
     "metadata": {},
     "output_type": "execute_result"
    }
   ],
   "source": [
    "# В данном критерии представлен 31 город\n",
    "df['City'].nunique()"
   ]
  },
  {
   "cell_type": "code",
   "execution_count": 1068,
   "metadata": {},
   "outputs": [],
   "source": [
    "# Новый признак capital_city - является ли город столицей\n",
    "not_capital_city = ['Barcelona', 'Milan', 'Hamburg', 'Munich', \n",
    "                          'Lyon', 'Zurich', 'Oporto', 'Geneva', 'Krakow']\n",
    "df['capital_city'] = df['City'].apply(\n",
    "    lambda x: 0 if x in not_capital_city else 1)\n",
    "# Новый признак: количество ресторанов в городе\n",
    "df['rest_in_city'] = df['City'].map(\n",
    "    df.groupby(['City'])['Restaurant_id'].count().to_dict())"
   ]
  },
  {
   "cell_type": "markdown",
   "metadata": {},
   "source": [
    "## 9. Ranking"
   ]
  },
  {
   "cell_type": "code",
   "execution_count": 1070,
   "metadata": {},
   "outputs": [
    {
     "data": {
      "text/plain": [
       "count    50000.000000\n",
       "mean      3664.427520\n",
       "std       3700.092452\n",
       "min          1.000000\n",
       "25%        972.000000\n",
       "50%       2278.000000\n",
       "75%       5241.000000\n",
       "max      16444.000000\n",
       "Name: Ranking, dtype: float64"
      ]
     },
     "metadata": {},
     "output_type": "display_data"
    },
    {
     "name": "stdout",
     "output_type": "stream",
     "text": [
      "Медиана: 2278.0 25-й перцентиль: 972.0, 75-й перцентиль: 5241.0, IQR: 4269.0,  Границы выбросов: [-5431.5, 11644.5].\n",
      "Для логарифма:\n",
      " Медиана: 7.731053144007127 25-й перцентиль: 6.879355804460439, 75-й перцентиль: 8.564267598802166, IQR: 1.684911794341727,  Границы выбросов: [4.351988112947849, 11.091635290314757].\n"
     ]
    },
    {
     "data": {
      "image/png": "[encoded data removed]",
      "text/plain": [
       "<Figure size 864x288 with 3 Axes>"
      ]
     },
     "metadata": {
      "needs_background": "light"
     },
     "output_type": "display_data"
    }
   ],
   "source": [
    "basic_inf(df['Ranking'])"
   ]
  },
  {
   "cell_type": "code",
   "execution_count": 1071,
   "metadata": {},
   "outputs": [],
   "source": [
    "# Создадим новые критерии\n",
    "# Новый критерий: средний ранг ресторана в городе\n",
    "df['mean_rank_in_city'] = df['City'].map(\n",
    "    df.groupby(['City'])['Ranking'].mean().to_dict())\n",
    "# Новый критерий: ранг/количество ресторанов в городе\n",
    "df['rel_ranking'] = df['Ranking']/df['rest_in_city']\n",
    "# Отнормируем критерий Ranking по городам\n",
    "df['norm_rank_on_rest'] = (\n",
    "    df['Ranking']- df['mean_rank_in_city'])/df['rest_in_city']\n"
   ]
  },
  {
   "cell_type": "markdown",
   "metadata": {},
   "source": [
    "## Обзор\n",
    "\n"
   ]
  },
  {
   "cell_type": "code",
   "execution_count": 1072,
   "metadata": {},
   "outputs": [
    {
     "data": {
      "text/html": [
       "<div>\n",
       "<style scoped>\n",
       "    .dataframe tbody tr th:only-of-type {\n",
       "        vertical-align: middle;\n",
       "    }\n",
       "\n",
       "    .dataframe tbody tr th {\n",
       "        vertical-align: top;\n",
       "    }\n",
       "\n",
       "    .dataframe thead th {\n",
       "        text-align: right;\n",
       "    }\n",
       "</style>\n",
       "<table border=\"1\" class=\"dataframe\">\n",
       "  <thead>\n",
       "    <tr style=\"text-align: right;\">\n",
       "      <th></th>\n",
       "      <th>Ranking</th>\n",
       "      <th>Price Range</th>\n",
       "      <th>Number of Reviews</th>\n",
       "      <th>sample</th>\n",
       "      <th>Rating</th>\n",
       "      <th>Cuisine_Style_NaN</th>\n",
       "      <th>Price_Range_NaN</th>\n",
       "      <th>Numb_of_Reviews_NaN</th>\n",
       "      <th>Reviews_NaN</th>\n",
       "      <th>cuisine_style_count</th>\n",
       "      <th>frec_of_review</th>\n",
       "      <th>mean_rev_in_city</th>\n",
       "      <th>empty_reviews</th>\n",
       "      <th>len_date_of_reviews</th>\n",
       "      <th>date_1_Nan</th>\n",
       "      <th>date_2_Nan</th>\n",
       "      <th>time_delta_days</th>\n",
       "      <th>time_delta_days_Nan</th>\n",
       "      <th>date_1_to_now</th>\n",
       "      <th>date_2_to_now</th>\n",
       "      <th>date_1_to_now_Nan</th>\n",
       "      <th>date_2_to_now_Nan</th>\n",
       "      <th>capital_city</th>\n",
       "      <th>rest_in_city</th>\n",
       "      <th>mean_rank_in_city</th>\n",
       "      <th>rel_ranking</th>\n",
       "      <th>norm_rank_on_rest</th>\n",
       "    </tr>\n",
       "  </thead>\n",
       "  <tbody>\n",
       "    <tr>\n",
       "      <th>count</th>\n",
       "      <td>50000.000000</td>\n",
       "      <td>50000.000000</td>\n",
       "      <td>50000.000000</td>\n",
       "      <td>50000.000000</td>\n",
       "      <td>50000.000000</td>\n",
       "      <td>50000.000000</td>\n",
       "      <td>50000.000000</td>\n",
       "      <td>50000.000000</td>\n",
       "      <td>50000.000000</td>\n",
       "      <td>50000.000000</td>\n",
       "      <td>50000.00000</td>\n",
       "      <td>50000.000000</td>\n",
       "      <td>50000.000000</td>\n",
       "      <td>50000.000000</td>\n",
       "      <td>50000.000000</td>\n",
       "      <td>50000.000000</td>\n",
       "      <td>50000.000000</td>\n",
       "      <td>50000.000000</td>\n",
       "      <td>50000.000000</td>\n",
       "      <td>50000.000000</td>\n",
       "      <td>50000.000000</td>\n",
       "      <td>50000.000000</td>\n",
       "      <td>50000.000000</td>\n",
       "      <td>50000.000000</td>\n",
       "      <td>50000.000000</td>\n",
       "      <td>50000.000000</td>\n",
       "      <td>5.000000e+04</td>\n",
       "    </tr>\n",
       "    <tr>\n",
       "      <th>mean</th>\n",
       "      <td>3664.427520</td>\n",
       "      <td>1.879320</td>\n",
       "      <td>117.067500</td>\n",
       "      <td>0.800000</td>\n",
       "      <td>3.194430</td>\n",
       "      <td>0.231800</td>\n",
       "      <td>0.347220</td>\n",
       "      <td>0.064000</td>\n",
       "      <td>0.000040</td>\n",
       "      <td>2.625320</td>\n",
       "      <td>812.51040</td>\n",
       "      <td>117.067500</td>\n",
       "      <td>0.162280</td>\n",
       "      <td>1.561900</td>\n",
       "      <td>0.162280</td>\n",
       "      <td>0.275880</td>\n",
       "      <td>103.222460</td>\n",
       "      <td>0.275880</td>\n",
       "      <td>1089.661160</td>\n",
       "      <td>992.173320</td>\n",
       "      <td>0.162280</td>\n",
       "      <td>0.275880</td>\n",
       "      <td>0.759660</td>\n",
       "      <td>3196.634400</td>\n",
       "      <td>3664.427520</td>\n",
       "      <td>1.155723</td>\n",
       "      <td>-5.211387e-18</td>\n",
       "    </tr>\n",
       "    <tr>\n",
       "      <th>std</th>\n",
       "      <td>3700.092452</td>\n",
       "      <td>0.421189</td>\n",
       "      <td>265.699695</td>\n",
       "      <td>0.400004</td>\n",
       "      <td>1.705453</td>\n",
       "      <td>0.421986</td>\n",
       "      <td>0.476091</td>\n",
       "      <td>0.244755</td>\n",
       "      <td>0.006324</td>\n",
       "      <td>1.824029</td>\n",
       "      <td>1004.27326</td>\n",
       "      <td>48.811543</td>\n",
       "      <td>0.368711</td>\n",
       "      <td>0.755553</td>\n",
       "      <td>0.368711</td>\n",
       "      <td>0.446961</td>\n",
       "      <td>199.812806</td>\n",
       "      <td>0.446961</td>\n",
       "      <td>582.655752</td>\n",
       "      <td>699.589933</td>\n",
       "      <td>0.368711</td>\n",
       "      <td>0.446961</td>\n",
       "      <td>0.427294</td>\n",
       "      <td>2321.787321</td>\n",
       "      <td>2623.722828</td>\n",
       "      <td>0.667952</td>\n",
       "      <td>6.674963e-01</td>\n",
       "    </tr>\n",
       "    <tr>\n",
       "      <th>min</th>\n",
       "      <td>1.000000</td>\n",
       "      <td>1.000000</td>\n",
       "      <td>0.000000</td>\n",
       "      <td>0.000000</td>\n",
       "      <td>0.000000</td>\n",
       "      <td>0.000000</td>\n",
       "      <td>0.000000</td>\n",
       "      <td>0.000000</td>\n",
       "      <td>0.000000</td>\n",
       "      <td>1.000000</td>\n",
       "      <td>1.00000</td>\n",
       "      <td>44.196459</td>\n",
       "      <td>0.000000</td>\n",
       "      <td>0.000000</td>\n",
       "      <td>0.000000</td>\n",
       "      <td>0.000000</td>\n",
       "      <td>0.000000</td>\n",
       "      <td>0.000000</td>\n",
       "      <td>0.000000</td>\n",
       "      <td>0.000000</td>\n",
       "      <td>0.000000</td>\n",
       "      <td>0.000000</td>\n",
       "      <td>0.000000</td>\n",
       "      <td>222.000000</td>\n",
       "      <td>234.509009</td>\n",
       "      <td>0.000139</td>\n",
       "      <td>-1.209024e+00</td>\n",
       "    </tr>\n",
       "    <tr>\n",
       "      <th>25%</th>\n",
       "      <td>972.000000</td>\n",
       "      <td>2.000000</td>\n",
       "      <td>10.000000</td>\n",
       "      <td>1.000000</td>\n",
       "      <td>3.000000</td>\n",
       "      <td>0.000000</td>\n",
       "      <td>0.000000</td>\n",
       "      <td>0.000000</td>\n",
       "      <td>0.000000</td>\n",
       "      <td>1.000000</td>\n",
       "      <td>82.00000</td>\n",
       "      <td>84.816163</td>\n",
       "      <td>0.000000</td>\n",
       "      <td>1.000000</td>\n",
       "      <td>0.000000</td>\n",
       "      <td>0.000000</td>\n",
       "      <td>0.000000</td>\n",
       "      <td>0.000000</td>\n",
       "      <td>1057.000000</td>\n",
       "      <td>0.000000</td>\n",
       "      <td>0.000000</td>\n",
       "      <td>0.000000</td>\n",
       "      <td>1.000000</td>\n",
       "      <td>1145.000000</td>\n",
       "      <td>1370.297817</td>\n",
       "      <td>0.577355</td>\n",
       "      <td>-5.776474e-01</td>\n",
       "    </tr>\n",
       "    <tr>\n",
       "      <th>50%</th>\n",
       "      <td>2278.000000</td>\n",
       "      <td>2.000000</td>\n",
       "      <td>33.000000</td>\n",
       "      <td>1.000000</td>\n",
       "      <td>4.000000</td>\n",
       "      <td>0.000000</td>\n",
       "      <td>0.000000</td>\n",
       "      <td>0.000000</td>\n",
       "      <td>0.000000</td>\n",
       "      <td>2.000000</td>\n",
       "      <td>365.00000</td>\n",
       "      <td>111.789129</td>\n",
       "      <td>0.000000</td>\n",
       "      <td>2.000000</td>\n",
       "      <td>0.000000</td>\n",
       "      <td>0.000000</td>\n",
       "      <td>29.000000</td>\n",
       "      <td>0.000000</td>\n",
       "      <td>1132.000000</td>\n",
       "      <td>1142.000000</td>\n",
       "      <td>0.000000</td>\n",
       "      <td>0.000000</td>\n",
       "      <td>1.000000</td>\n",
       "      <td>2694.000000</td>\n",
       "      <td>3106.027840</td>\n",
       "      <td>1.151105</td>\n",
       "      <td>-4.143651e-03</td>\n",
       "    </tr>\n",
       "    <tr>\n",
       "      <th>75%</th>\n",
       "      <td>5241.000000</td>\n",
       "      <td>2.000000</td>\n",
       "      <td>104.000000</td>\n",
       "      <td>1.000000</td>\n",
       "      <td>4.500000</td>\n",
       "      <td>0.000000</td>\n",
       "      <td>1.000000</td>\n",
       "      <td>0.000000</td>\n",
       "      <td>0.000000</td>\n",
       "      <td>4.000000</td>\n",
       "      <td>1126.00000</td>\n",
       "      <td>130.423328</td>\n",
       "      <td>0.000000</td>\n",
       "      <td>2.000000</td>\n",
       "      <td>0.000000</td>\n",
       "      <td>1.000000</td>\n",
       "      <td>120.000000</td>\n",
       "      <td>1.000000</td>\n",
       "      <td>1308.000000</td>\n",
       "      <td>1346.000000</td>\n",
       "      <td>0.000000</td>\n",
       "      <td>1.000000</td>\n",
       "      <td>1.000000</td>\n",
       "      <td>6108.000000</td>\n",
       "      <td>6938.557138</td>\n",
       "      <td>1.732897</td>\n",
       "      <td>5.762193e-01</td>\n",
       "    </tr>\n",
       "    <tr>\n",
       "      <th>max</th>\n",
       "      <td>16444.000000</td>\n",
       "      <td>3.000000</td>\n",
       "      <td>5216.000000</td>\n",
       "      <td>1.000000</td>\n",
       "      <td>5.000000</td>\n",
       "      <td>1.000000</td>\n",
       "      <td>1.000000</td>\n",
       "      <td>1.000000</td>\n",
       "      <td>1.000000</td>\n",
       "      <td>21.000000</td>\n",
       "      <td>3514.00000</td>\n",
       "      <td>274.074932</td>\n",
       "      <td>1.000000</td>\n",
       "      <td>3.000000</td>\n",
       "      <td>1.000000</td>\n",
       "      <td>1.000000</td>\n",
       "      <td>3296.000000</td>\n",
       "      <td>1.000000</td>\n",
       "      <td>6062.000000</td>\n",
       "      <td>4760.000000</td>\n",
       "      <td>1.000000</td>\n",
       "      <td>1.000000</td>\n",
       "      <td>1.000000</td>\n",
       "      <td>7193.000000</td>\n",
       "      <td>8169.707354</td>\n",
       "      <td>2.413100</td>\n",
       "      <td>1.216334e+00</td>\n",
       "    </tr>\n",
       "  </tbody>\n",
       "</table>\n",
       "</div>"
      ],
      "text/plain": [
       "            Ranking   Price Range  Number of Reviews        sample  \\\n",
       "count  50000.000000  50000.000000       50000.000000  50000.000000   \n",
       "mean    3664.427520      1.879320         117.067500      0.800000   \n",
       "std     3700.092452      0.421189         265.699695      0.400004   \n",
       "min        1.000000      1.000000           0.000000      0.000000   \n",
       "25%      972.000000      2.000000          10.000000      1.000000   \n",
       "50%     2278.000000      2.000000          33.000000      1.000000   \n",
       "75%     5241.000000      2.000000         104.000000      1.000000   \n",
       "max    16444.000000      3.000000        5216.000000      1.000000   \n",
       "\n",
       "             Rating  Cuisine_Style_NaN  Price_Range_NaN  Numb_of_Reviews_NaN  \\\n",
       "count  50000.000000       50000.000000     50000.000000         50000.000000   \n",
       "mean       3.194430           0.231800         0.347220             0.064000   \n",
       "std        1.705453           0.421986         0.476091             0.244755   \n",
       "min        0.000000           0.000000         0.000000             0.000000   \n",
       "25%        3.000000           0.000000         0.000000             0.000000   \n",
       "50%        4.000000           0.000000         0.000000             0.000000   \n",
       "75%        4.500000           0.000000         1.000000             0.000000   \n",
       "max        5.000000           1.000000         1.000000             1.000000   \n",
       "\n",
       "        Reviews_NaN  cuisine_style_count  frec_of_review  mean_rev_in_city  \\\n",
       "count  50000.000000         50000.000000     50000.00000      50000.000000   \n",
       "mean       0.000040             2.625320       812.51040        117.067500   \n",
       "std        0.006324             1.824029      1004.27326         48.811543   \n",
       "min        0.000000             1.000000         1.00000         44.196459   \n",
       "25%        0.000000             1.000000        82.00000         84.816163   \n",
       "50%        0.000000             2.000000       365.00000        111.789129   \n",
       "75%        0.000000             4.000000      1126.00000        130.423328   \n",
       "max        1.000000            21.000000      3514.00000        274.074932   \n",
       "\n",
       "       empty_reviews  len_date_of_reviews    date_1_Nan    date_2_Nan  \\\n",
       "count   50000.000000         50000.000000  50000.000000  50000.000000   \n",
       "mean        0.162280             1.561900      0.162280      0.275880   \n",
       "std         0.368711             0.755553      0.368711      0.446961   \n",
       "min         0.000000             0.000000      0.000000      0.000000   \n",
       "25%         0.000000             1.000000      0.000000      0.000000   \n",
       "50%         0.000000             2.000000      0.000000      0.000000   \n",
       "75%         0.000000             2.000000      0.000000      1.000000   \n",
       "max         1.000000             3.000000      1.000000      1.000000   \n",
       "\n",
       "       time_delta_days  time_delta_days_Nan  date_1_to_now  date_2_to_now  \\\n",
       "count     50000.000000         50000.000000   50000.000000   50000.000000   \n",
       "mean        103.222460             0.275880    1089.661160     992.173320   \n",
       "std         199.812806             0.446961     582.655752     699.589933   \n",
       "min           0.000000             0.000000       0.000000       0.000000   \n",
       "25%           0.000000             0.000000    1057.000000       0.000000   \n",
       "50%          29.000000             0.000000    1132.000000    1142.000000   \n",
       "75%         120.000000             1.000000    1308.000000    1346.000000   \n",
       "max        3296.000000             1.000000    6062.000000    4760.000000   \n",
       "\n",
       "       date_1_to_now_Nan  date_2_to_now_Nan  capital_city  rest_in_city  \\\n",
       "count       50000.000000       50000.000000  50000.000000  50000.000000   \n",
       "mean            0.162280           0.275880      0.759660   3196.634400   \n",
       "std             0.368711           0.446961      0.427294   2321.787321   \n",
       "min             0.000000           0.000000      0.000000    222.000000   \n",
       "25%             0.000000           0.000000      1.000000   1145.000000   \n",
       "50%             0.000000           0.000000      1.000000   2694.000000   \n",
       "75%             0.000000           1.000000      1.000000   6108.000000   \n",
       "max             1.000000           1.000000      1.000000   7193.000000   \n",
       "\n",
       "       mean_rank_in_city   rel_ranking  norm_rank_on_rest  \n",
       "count       50000.000000  50000.000000       5.000000e+04  \n",
       "mean         3664.427520      1.155723      -5.211387e-18  \n",
       "std          2623.722828      0.667952       6.674963e-01  \n",
       "min           234.509009      0.000139      -1.209024e+00  \n",
       "25%          1370.297817      0.577355      -5.776474e-01  \n",
       "50%          3106.027840      1.151105      -4.143651e-03  \n",
       "75%          6938.557138      1.732897       5.762193e-01  \n",
       "max          8169.707354      2.413100       1.216334e+00  "
      ]
     },
     "execution_count": 1072,
     "metadata": {},
     "output_type": "execute_result"
    }
   ],
   "source": [
    "df.describe()"
   ]
  },
  {
   "cell_type": "code",
   "execution_count": 1073,
   "metadata": {
    "scrolled": true
   },
   "outputs": [
    {
     "name": "stdout",
     "output_type": "stream",
     "text": [
      "<class 'pandas.core.frame.DataFrame'>\n",
      "RangeIndex: 50000 entries, 0 to 49999\n",
      "Data columns (total 36 columns):\n",
      " #   Column               Non-Null Count  Dtype  \n",
      "---  ------               --------------  -----  \n",
      " 0   Restaurant_id        50000 non-null  object \n",
      " 1   City                 50000 non-null  object \n",
      " 2   Cuisine Style        50000 non-null  object \n",
      " 3   Ranking              50000 non-null  float64\n",
      " 4   Price Range          50000 non-null  float64\n",
      " 5   Number of Reviews    50000 non-null  float64\n",
      " 6   Reviews              50000 non-null  object \n",
      " 7   URL_TA               50000 non-null  object \n",
      " 8   ID_TA                50000 non-null  object \n",
      " 9   sample               50000 non-null  int64  \n",
      " 10  Rating               50000 non-null  float64\n",
      " 11  Cuisine_Style_NaN    50000 non-null  float64\n",
      " 12  Price_Range_NaN      50000 non-null  float64\n",
      " 13  Numb_of_Reviews_NaN  50000 non-null  float64\n",
      " 14  Reviews_NaN          50000 non-null  float64\n",
      " 15  cuisine_style_count  50000 non-null  int64  \n",
      " 16  frec_of_review       50000 non-null  int64  \n",
      " 17  mean_rev_in_city     50000 non-null  float64\n",
      " 18  empty_reviews        50000 non-null  float64\n",
      " 19  date_of_reviews      50000 non-null  object \n",
      " 20  len_date_of_reviews  50000 non-null  int64  \n",
      " 21  date_1               50000 non-null  object \n",
      " 22  date_2               50000 non-null  object \n",
      " 23  date_1_Nan           50000 non-null  float64\n",
      " 24  date_2_Nan           50000 non-null  float64\n",
      " 25  time_delta_days      50000 non-null  float64\n",
      " 26  time_delta_days_Nan  50000 non-null  float64\n",
      " 27  date_1_to_now        50000 non-null  float64\n",
      " 28  date_2_to_now        50000 non-null  float64\n",
      " 29  date_1_to_now_Nan    50000 non-null  float64\n",
      " 30  date_2_to_now_Nan    50000 non-null  float64\n",
      " 31  capital_city         50000 non-null  int64  \n",
      " 32  rest_in_city         50000 non-null  int64  \n",
      " 33  mean_rank_in_city    50000 non-null  float64\n",
      " 34  rel_ranking          50000 non-null  float64\n",
      " 35  norm_rank_on_rest    50000 non-null  float64\n",
      "dtypes: float64(21), int64(6), object(9)\n",
      "memory usage: 48.7 MB\n"
     ]
    }
   ],
   "source": [
    "df.info(memory_usage='deep')"
   ]
  },
  {
   "cell_type": "code",
   "execution_count": 1075,
   "metadata": {},
   "outputs": [
    {
     "data": {
      "text/plain": [
       "<matplotlib.axes._subplots.AxesSubplot at 0x1cf20880c88>"
      ]
     },
     "execution_count": 1075,
     "metadata": {},
     "output_type": "execute_result"
    },
    {
     "data": {
      "image/png": "[encoded data removed]",
      "text/plain": [
       "<Figure size 2160x2160 with 2 Axes>"
      ]
     },
     "metadata": {
      "needs_background": "light"
     },
     "output_type": "display_data"
    }
   ],
   "source": [
    "plt.subplots(figsize=(30,30))\n",
    "sns.heatmap(df.corr())"
   ]
  },
  {
   "cell_type": "markdown",
   "metadata": {},
   "source": [
    "## Массивные операции\n"
   ]
  },
  {
   "cell_type": "code",
   "execution_count": 1085,
   "metadata": {},
   "outputs": [],
   "source": [
    "df = pd.get_dummies(df, columns=['City'], dummy_na=True)\n",
    "for item in cuisines:\n",
    "    df[item] = df['Cuisine Style'].apply(find_item)"
   ]
  },
  {
   "cell_type": "code",
   "execution_count": null,
   "metadata": {},
   "outputs": [],
   "source": []
  },
  {
   "cell_type": "markdown",
   "metadata": {},
   "source": [
    "## Модель\n"
   ]
  },
  {
   "cell_type": "code",
   "execution_count": 1086,
   "metadata": {},
   "outputs": [
    {
     "name": "stdout",
     "output_type": "stream",
     "text": [
      "<class 'pandas.core.frame.DataFrame'>\n",
      "RangeIndex: 50000 entries, 0 to 49999\n",
      "Columns: 192 entries, Restaurant_id to Minority Chinese\n",
      "dtypes: float64(21), int64(131), object(8), uint8(32)\n",
      "memory usage: 62.6+ MB\n"
     ]
    }
   ],
   "source": [
    "df_preproc = df.copy()\n",
    "df_preproc.info()"
   ]
  },
  {
   "cell_type": "code",
   "execution_count": 1087,
   "metadata": {},
   "outputs": [],
   "source": [
    "object_columns = [s for s in df_preproc.columns if df_preproc[s].dtypes == 'object']\n",
    "df_preproc.drop(object_columns, axis = 1, inplace=True)"
   ]
  },
  {
   "cell_type": "code",
   "execution_count": 1088,
   "metadata": {},
   "outputs": [
    {
     "name": "stderr",
     "output_type": "stream",
     "text": [
      "[Parallel(n_jobs=-1)]: Using backend ThreadingBackend with 12 concurrent workers.\n",
      "[Parallel(n_jobs=-1)]: Done  26 tasks      | elapsed:    2.8s\n",
      "[Parallel(n_jobs=-1)]: Done 100 out of 100 | elapsed:    8.5s finished\n",
      "[Parallel(n_jobs=12)]: Using backend ThreadingBackend with 12 concurrent workers.\n",
      "[Parallel(n_jobs=12)]: Done  26 tasks      | elapsed:    0.0s\n",
      "[Parallel(n_jobs=12)]: Done 100 out of 100 | elapsed:    0.0s finished\n"
     ]
    },
    {
     "name": "stdout",
     "output_type": "stream",
     "text": [
      "MAE: 0.1986325\n"
     ]
    },
    {
     "data": {
      "text/plain": [
       "<matplotlib.axes._subplots.AxesSubplot at 0x1cf437b4188>"
      ]
     },
     "execution_count": 1088,
     "metadata": {},
     "output_type": "execute_result"
    },
    {
     "data": {
      "image/png": "[encoded data removed]",
      "text/plain": [
       "<Figure size 720x720 with 1 Axes>"
      ]
     },
     "metadata": {
      "needs_background": "light"
     },
     "output_type": "display_data"
    }
   ],
   "source": [
    "drop_list = ['Cuisine_Style_NaN']\n",
    "\n",
    "train_data = df_preproc.query('sample == 1').drop(['sample']+drop_list, axis=1)\n",
    "test_data = df_preproc.query('sample == 0').drop(['sample']+drop_list, axis=1)\n",
    "\n",
    "y = train_data.Rating.values            # наш таргет\n",
    "X = train_data.drop(['Rating'], axis=1)\n",
    "\n",
    "RANDOM_SEED = 42\n",
    "X_train, X_test, y_train, y_test = train_test_split(\n",
    "    X, y, test_size=0.2, random_state=RANDOM_SEED)\n",
    "\n",
    "test_data.shape, train_data.shape, X.shape, X_train.shape, X_test.shape\n",
    "\n",
    "model = RandomForestRegressor(\n",
    "    n_estimators=100, verbose=1, n_jobs=-1, random_state=RANDOM_SEED)\n",
    "\n",
    "model.fit(X_train, y_train)\n",
    "\n",
    "# Используем обученную модель для предсказания рейтинга ресторанов в тестовой выборке.\n",
    "# Предсказанные значения записываем в переменную y_pred\n",
    "y_pred = model.predict(X_test)\n",
    "MAE = metrics.mean_absolute_error(y_test, y_pred)\n",
    "print('MAE:', metrics.mean_absolute_error(y_test, y_pred))\n",
    "\n",
    "plt.rcParams['figure.figsize'] = (10, 10)\n",
    "feat_importances = pd.Series(model.feature_importances_, index=X.columns)\n",
    "feat_importances.nlargest(30).plot(kind='barh')"
   ]
  },
  {
   "cell_type": "code",
   "execution_count": 1089,
   "metadata": {},
   "outputs": [
    {
     "name": "stdout",
     "output_type": "stream",
     "text": [
      "min_MAE = 0.19863\n"
     ]
    }
   ],
   "source": [
    "min_MAE = round(MAE,5)\n",
    "print(f\"min_MAE = {min_MAE}\")"
   ]
  },
  {
   "cell_type": "code",
   "execution_count": 1083,
   "metadata": {},
   "outputs": [
    {
     "name": "stdout",
     "output_type": "stream",
     "text": [
      "0.2006\n"
     ]
    },
    {
     "name": "stderr",
     "output_type": "stream",
     "text": [
      "[Parallel(n_jobs=-1)]: Using backend ThreadingBackend with 12 concurrent workers.\n",
      "[Parallel(n_jobs=-1)]: Done  26 tasks      | elapsed:    0.7s\n",
      "[Parallel(n_jobs=-1)]: Done 100 out of 100 | elapsed:    2.2s finished\n",
      "[Parallel(n_jobs=12)]: Using backend ThreadingBackend with 12 concurrent workers.\n",
      "[Parallel(n_jobs=12)]: Done  26 tasks      | elapsed:    0.0s\n",
      "[Parallel(n_jobs=12)]: Done 100 out of 100 | elapsed:    0.0s finished\n",
      "[Parallel(n_jobs=-1)]: Using backend ThreadingBackend with 12 concurrent workers.\n",
      "[Parallel(n_jobs=-1)]: Done  26 tasks      | elapsed:    0.8s\n",
      "[Parallel(n_jobs=-1)]: Done 100 out of 100 | elapsed:    2.5s finished\n",
      "[Parallel(n_jobs=12)]: Using backend ThreadingBackend with 12 concurrent workers.\n",
      "[Parallel(n_jobs=12)]: Done  26 tasks      | elapsed:    0.0s\n",
      "[Parallel(n_jobs=12)]: Done 100 out of 100 | elapsed:    0.0s finished\n",
      "[Parallel(n_jobs=-1)]: Using backend ThreadingBackend with 12 concurrent workers.\n",
      "[Parallel(n_jobs=-1)]: Done  26 tasks      | elapsed:    0.8s\n",
      "[Parallel(n_jobs=-1)]: Done 100 out of 100 | elapsed:    2.4s finished\n",
      "[Parallel(n_jobs=12)]: Using backend ThreadingBackend with 12 concurrent workers.\n",
      "[Parallel(n_jobs=12)]: Done  26 tasks      | elapsed:    0.0s\n",
      "[Parallel(n_jobs=12)]: Done 100 out of 100 | elapsed:    0.0s finished\n",
      "[Parallel(n_jobs=-1)]: Using backend ThreadingBackend with 12 concurrent workers.\n",
      "[Parallel(n_jobs=-1)]: Done  26 tasks      | elapsed:    0.8s\n",
      "[Parallel(n_jobs=-1)]: Done 100 out of 100 | elapsed:    2.6s finished\n",
      "[Parallel(n_jobs=12)]: Using backend ThreadingBackend with 12 concurrent workers.\n",
      "[Parallel(n_jobs=12)]: Done  26 tasks      | elapsed:    0.0s\n",
      "[Parallel(n_jobs=12)]: Done 100 out of 100 | elapsed:    0.0s finished\n",
      "[Parallel(n_jobs=-1)]: Using backend ThreadingBackend with 12 concurrent workers.\n",
      "[Parallel(n_jobs=-1)]: Done  26 tasks      | elapsed:    0.8s\n",
      "[Parallel(n_jobs=-1)]: Done 100 out of 100 | elapsed:    2.6s finished\n",
      "[Parallel(n_jobs=12)]: Using backend ThreadingBackend with 12 concurrent workers.\n",
      "[Parallel(n_jobs=12)]: Done  26 tasks      | elapsed:    0.0s\n",
      "[Parallel(n_jobs=12)]: Done 100 out of 100 | elapsed:    0.0s finished\n",
      "[Parallel(n_jobs=-1)]: Using backend ThreadingBackend with 12 concurrent workers.\n",
      "[Parallel(n_jobs=-1)]: Done  26 tasks      | elapsed:    0.9s\n",
      "[Parallel(n_jobs=-1)]: Done 100 out of 100 | elapsed:    2.7s finished\n",
      "[Parallel(n_jobs=12)]: Using backend ThreadingBackend with 12 concurrent workers.\n",
      "[Parallel(n_jobs=12)]: Done  26 tasks      | elapsed:    0.0s\n",
      "[Parallel(n_jobs=12)]: Done 100 out of 100 | elapsed:    0.0s finished\n",
      "[Parallel(n_jobs=-1)]: Using backend ThreadingBackend with 12 concurrent workers.\n",
      "[Parallel(n_jobs=-1)]: Done  26 tasks      | elapsed:    0.8s\n",
      "[Parallel(n_jobs=-1)]: Done 100 out of 100 | elapsed:    2.6s finished\n",
      "[Parallel(n_jobs=12)]: Using backend ThreadingBackend with 12 concurrent workers.\n",
      "[Parallel(n_jobs=12)]: Done  26 tasks      | elapsed:    0.0s\n",
      "[Parallel(n_jobs=12)]: Done 100 out of 100 | elapsed:    0.0s finished\n",
      "[Parallel(n_jobs=-1)]: Using backend ThreadingBackend with 12 concurrent workers.\n",
      "[Parallel(n_jobs=-1)]: Done  26 tasks      | elapsed:    0.9s\n",
      "[Parallel(n_jobs=-1)]: Done 100 out of 100 | elapsed:    2.9s finished\n",
      "[Parallel(n_jobs=12)]: Using backend ThreadingBackend with 12 concurrent workers.\n",
      "[Parallel(n_jobs=12)]: Done  26 tasks      | elapsed:    0.0s\n",
      "[Parallel(n_jobs=12)]: Done 100 out of 100 | elapsed:    0.0s finished\n",
      "[Parallel(n_jobs=-1)]: Using backend ThreadingBackend with 12 concurrent workers.\n",
      "[Parallel(n_jobs=-1)]: Done  26 tasks      | elapsed:    0.9s\n",
      "[Parallel(n_jobs=-1)]: Done 100 out of 100 | elapsed:    3.0s finished\n",
      "[Parallel(n_jobs=12)]: Using backend ThreadingBackend with 12 concurrent workers.\n",
      "[Parallel(n_jobs=12)]: Done  26 tasks      | elapsed:    0.0s\n",
      "[Parallel(n_jobs=12)]: Done 100 out of 100 | elapsed:    0.0s finished\n",
      "[Parallel(n_jobs=-1)]: Using backend ThreadingBackend with 12 concurrent workers.\n",
      "[Parallel(n_jobs=-1)]: Done  26 tasks      | elapsed:    1.0s\n",
      "[Parallel(n_jobs=-1)]: Done 100 out of 100 | elapsed:    3.1s finished\n",
      "[Parallel(n_jobs=12)]: Using backend ThreadingBackend with 12 concurrent workers.\n",
      "[Parallel(n_jobs=12)]: Done  26 tasks      | elapsed:    0.0s\n",
      "[Parallel(n_jobs=12)]: Done 100 out of 100 | elapsed:    0.0s finished\n",
      "[Parallel(n_jobs=-1)]: Using backend ThreadingBackend with 12 concurrent workers.\n",
      "[Parallel(n_jobs=-1)]: Done  26 tasks      | elapsed:    0.9s\n",
      "[Parallel(n_jobs=-1)]: Done 100 out of 100 | elapsed:    3.1s finished\n",
      "[Parallel(n_jobs=12)]: Using backend ThreadingBackend with 12 concurrent workers.\n",
      "[Parallel(n_jobs=12)]: Done  26 tasks      | elapsed:    0.0s\n",
      "[Parallel(n_jobs=12)]: Done 100 out of 100 | elapsed:    0.0s finished\n",
      "[Parallel(n_jobs=-1)]: Using backend ThreadingBackend with 12 concurrent workers.\n",
      "[Parallel(n_jobs=-1)]: Done  26 tasks      | elapsed:    1.0s\n",
      "[Parallel(n_jobs=-1)]: Done 100 out of 100 | elapsed:    3.3s finished\n",
      "[Parallel(n_jobs=12)]: Using backend ThreadingBackend with 12 concurrent workers.\n",
      "[Parallel(n_jobs=12)]: Done  26 tasks      | elapsed:    0.0s\n",
      "[Parallel(n_jobs=12)]: Done 100 out of 100 | elapsed:    0.0s finished\n",
      "[Parallel(n_jobs=-1)]: Using backend ThreadingBackend with 12 concurrent workers.\n",
      "[Parallel(n_jobs=-1)]: Done  26 tasks      | elapsed:    1.0s\n",
      "[Parallel(n_jobs=-1)]: Done 100 out of 100 | elapsed:    3.3s finished\n",
      "[Parallel(n_jobs=12)]: Using backend ThreadingBackend with 12 concurrent workers.\n",
      "[Parallel(n_jobs=12)]: Done  26 tasks      | elapsed:    0.0s\n",
      "[Parallel(n_jobs=12)]: Done 100 out of 100 | elapsed:    0.0s finished\n",
      "[Parallel(n_jobs=-1)]: Using backend ThreadingBackend with 12 concurrent workers.\n",
      "[Parallel(n_jobs=-1)]: Done  26 tasks      | elapsed:    1.1s\n",
      "[Parallel(n_jobs=-1)]: Done 100 out of 100 | elapsed:    3.2s finished\n",
      "[Parallel(n_jobs=12)]: Using backend ThreadingBackend with 12 concurrent workers.\n",
      "[Parallel(n_jobs=12)]: Done  26 tasks      | elapsed:    0.0s\n",
      "[Parallel(n_jobs=12)]: Done 100 out of 100 | elapsed:    0.0s finished\n",
      "[Parallel(n_jobs=-1)]: Using backend ThreadingBackend with 12 concurrent workers.\n",
      "[Parallel(n_jobs=-1)]: Done  26 tasks      | elapsed:    1.0s\n",
      "[Parallel(n_jobs=-1)]: Done 100 out of 100 | elapsed:    3.5s finished\n",
      "[Parallel(n_jobs=12)]: Using backend ThreadingBackend with 12 concurrent workers.\n",
      "[Parallel(n_jobs=12)]: Done  26 tasks      | elapsed:    0.0s\n",
      "[Parallel(n_jobs=12)]: Done 100 out of 100 | elapsed:    0.0s finished\n",
      "[Parallel(n_jobs=-1)]: Using backend ThreadingBackend with 12 concurrent workers.\n",
      "[Parallel(n_jobs=-1)]: Done  26 tasks      | elapsed:    1.1s\n",
      "[Parallel(n_jobs=-1)]: Done 100 out of 100 | elapsed:    3.3s finished\n",
      "[Parallel(n_jobs=12)]: Using backend ThreadingBackend with 12 concurrent workers.\n",
      "[Parallel(n_jobs=12)]: Done  26 tasks      | elapsed:    0.0s\n",
      "[Parallel(n_jobs=12)]: Done 100 out of 100 | elapsed:    0.0s finished\n",
      "[Parallel(n_jobs=-1)]: Using backend ThreadingBackend with 12 concurrent workers.\n",
      "[Parallel(n_jobs=-1)]: Done  26 tasks      | elapsed:    1.0s\n",
      "[Parallel(n_jobs=-1)]: Done 100 out of 100 | elapsed:    3.2s finished\n",
      "[Parallel(n_jobs=12)]: Using backend ThreadingBackend with 12 concurrent workers.\n",
      "[Parallel(n_jobs=12)]: Done  26 tasks      | elapsed:    0.0s\n",
      "[Parallel(n_jobs=12)]: Done 100 out of 100 | elapsed:    0.0s finished\n",
      "[Parallel(n_jobs=-1)]: Using backend ThreadingBackend with 12 concurrent workers.\n",
      "[Parallel(n_jobs=-1)]: Done  26 tasks      | elapsed:    1.2s\n",
      "[Parallel(n_jobs=-1)]: Done 100 out of 100 | elapsed:    3.5s finished\n",
      "[Parallel(n_jobs=12)]: Using backend ThreadingBackend with 12 concurrent workers.\n",
      "[Parallel(n_jobs=12)]: Done  26 tasks      | elapsed:    0.0s\n",
      "[Parallel(n_jobs=12)]: Done 100 out of 100 | elapsed:    0.0s finished\n",
      "[Parallel(n_jobs=-1)]: Using backend ThreadingBackend with 12 concurrent workers.\n",
      "[Parallel(n_jobs=-1)]: Done  26 tasks      | elapsed:    1.1s\n",
      "[Parallel(n_jobs=-1)]: Done 100 out of 100 | elapsed:    3.7s finished\n",
      "[Parallel(n_jobs=12)]: Using backend ThreadingBackend with 12 concurrent workers.\n",
      "[Parallel(n_jobs=12)]: Done  26 tasks      | elapsed:    0.0s\n",
      "[Parallel(n_jobs=12)]: Done 100 out of 100 | elapsed:    0.0s finished\n",
      "[Parallel(n_jobs=-1)]: Using backend ThreadingBackend with 12 concurrent workers.\n"
     ]
    },
    {
     "name": "stderr",
     "output_type": "stream",
     "text": [
      "[Parallel(n_jobs=-1)]: Done  26 tasks      | elapsed:    1.1s\n",
      "[Parallel(n_jobs=-1)]: Done 100 out of 100 | elapsed:    3.6s finished\n",
      "[Parallel(n_jobs=12)]: Using backend ThreadingBackend with 12 concurrent workers.\n",
      "[Parallel(n_jobs=12)]: Done  26 tasks      | elapsed:    0.0s\n",
      "[Parallel(n_jobs=12)]: Done 100 out of 100 | elapsed:    0.0s finished\n",
      "[Parallel(n_jobs=-1)]: Using backend ThreadingBackend with 12 concurrent workers.\n",
      "[Parallel(n_jobs=-1)]: Done  26 tasks      | elapsed:    1.1s\n",
      "[Parallel(n_jobs=-1)]: Done 100 out of 100 | elapsed:    3.4s finished\n",
      "[Parallel(n_jobs=12)]: Using backend ThreadingBackend with 12 concurrent workers.\n",
      "[Parallel(n_jobs=12)]: Done  26 tasks      | elapsed:    0.0s\n",
      "[Parallel(n_jobs=12)]: Done 100 out of 100 | elapsed:    0.0s finished\n",
      "[Parallel(n_jobs=-1)]: Using backend ThreadingBackend with 12 concurrent workers.\n",
      "[Parallel(n_jobs=-1)]: Done  26 tasks      | elapsed:    1.0s\n",
      "[Parallel(n_jobs=-1)]: Done 100 out of 100 | elapsed:    3.4s finished\n",
      "[Parallel(n_jobs=12)]: Using backend ThreadingBackend with 12 concurrent workers.\n",
      "[Parallel(n_jobs=12)]: Done  26 tasks      | elapsed:    0.0s\n",
      "[Parallel(n_jobs=12)]: Done 100 out of 100 | elapsed:    0.0s finished\n",
      "[Parallel(n_jobs=-1)]: Using backend ThreadingBackend with 12 concurrent workers.\n",
      "[Parallel(n_jobs=-1)]: Done  26 tasks      | elapsed:    0.9s\n",
      "[Parallel(n_jobs=-1)]: Done 100 out of 100 | elapsed:    3.0s finished\n",
      "[Parallel(n_jobs=12)]: Using backend ThreadingBackend with 12 concurrent workers.\n",
      "[Parallel(n_jobs=12)]: Done  26 tasks      | elapsed:    0.0s\n",
      "[Parallel(n_jobs=12)]: Done 100 out of 100 | elapsed:    0.0s finished\n",
      "[Parallel(n_jobs=-1)]: Using backend ThreadingBackend with 12 concurrent workers.\n",
      "[Parallel(n_jobs=-1)]: Done  26 tasks      | elapsed:    1.0s\n",
      "[Parallel(n_jobs=-1)]: Done 100 out of 100 | elapsed:    3.2s finished\n",
      "[Parallel(n_jobs=12)]: Using backend ThreadingBackend with 12 concurrent workers.\n",
      "[Parallel(n_jobs=12)]: Done  26 tasks      | elapsed:    0.0s\n",
      "[Parallel(n_jobs=12)]: Done 100 out of 100 | elapsed:    0.0s finished\n"
     ]
    },
    {
     "data": {
      "text/plain": [
       "[['Ranking', 0.20175812499999998],\n",
       " ['Price Range', 0.201296875],\n",
       " ['Number of Reviews', 0.20183875],\n",
       " ['Price_Range_NaN', 0.201115],\n",
       " ['Numb_of_Reviews_NaN', 0.20153749999999998],\n",
       " ['Reviews_NaN', 0.20098500000000002],\n",
       " ['cuisine_style_count', 0.2015175],\n",
       " ['frec_of_review', 0.20098375],\n",
       " ['mean_rev_in_city', 0.208809375],\n",
       " ['empty_reviews', 0.20097749999999998],\n",
       " ['len_date_of_reviews', 0.20098249999999995],\n",
       " ['date_1_Nan', 0.20091312499999997],\n",
       " ['date_2_Nan', 0.2009225],\n",
       " ['time_delta_days', 0.20116499999999998],\n",
       " ['time_delta_days_Nan', 0.20084499999999997],\n",
       " ['date_1_to_now', 0.20196187499999999],\n",
       " ['date_2_to_now', 0.201654375],\n",
       " ['date_1_to_now_Nan', 0.200674375],\n",
       " ['date_2_to_now_Nan', 0.20085124999999998],\n",
       " ['capital_city', 0.20081249999999998],\n",
       " ['rest_in_city', 0.201096875],\n",
       " ['mean_rank_in_city', 0.20087937499999997],\n",
       " ['rel_ranking', 0.20104062499999997],\n",
       " ['norm_rank_on_rest', 0.20156124999999997]]"
      ]
     },
     "metadata": {},
     "output_type": "display_data"
    },
    {
     "data": {
      "text/plain": [
       "['Cuisine_Style_NaN']"
      ]
     },
     "metadata": {},
     "output_type": "display_data"
    }
   ],
   "source": [
    "log = []\n",
    "min_MAE = round(MAE,5)\n",
    "remove_list1 = []\n",
    "\n",
    "print(min_MAE)\n",
    "for i in df_preproc.columns:\n",
    "    \n",
    "    if i=='sample':\n",
    "        continue\n",
    "    elif i == 'Rating':\n",
    "        continue\n",
    "    elif i in remove_list1:\n",
    "        continue\n",
    "    else:\n",
    "        \n",
    "        df_preproc1 = df_preproc.copy()\n",
    "        df_preproc1 = df_preproc1.drop([i],axis=1)\n",
    "        train_data = df_preproc1.query('sample == 1').drop(['sample']+remove_list1, axis=1)\n",
    "        test_data = df_preproc1.query('sample == 0').drop(['sample']+remove_list1, axis=1)\n",
    "\n",
    "        y = train_data.Rating.values            # наш таргет\n",
    "        X = train_data.drop(['Rating'], axis=1)\n",
    "\n",
    "        RANDOM_SEED = 42\n",
    "        X_train, X_test, y_train, y_test = train_test_split(X, y, test_size=0.2, random_state=RANDOM_SEED)\n",
    "\n",
    "        test_data.shape, train_data.shape, X.shape, X_train.shape, X_test.shape\n",
    "\n",
    "        model = RandomForestRegressor(n_estimators=100, verbose=1, n_jobs=-1, random_state=RANDOM_SEED)\n",
    "\n",
    "        model.fit(X_train, y_train)\n",
    "\n",
    "        # Используем обученную модель для предсказания рейтинга ресторанов в тестовой выборке.\n",
    "        # Предсказанные значения записываем в переменную y_pred\n",
    "        y_pred = model.predict(X_test)\n",
    "        \n",
    "        MAE1 = metrics.mean_absolute_error(y_test, y_pred)\n",
    "        log.append([i,MAE1])\n",
    "        if round(MAE1,5) <= min_MAE:\n",
    "            remove_list1.append(i)\n",
    "            min_MAE = MAE1\n",
    "            print(min_MAE)\n",
    "            \n",
    "        \n",
    "\n",
    "        \n",
    "display(log)\n",
    "display(remove_list1)"
   ]
  },
  {
   "cell_type": "code",
   "execution_count": 1084,
   "metadata": {},
   "outputs": [
    {
     "name": "stdout",
     "output_type": "stream",
     "text": [
      "0.2006\n"
     ]
    },
    {
     "data": {
      "text/plain": [
       "['Cuisine_Style_NaN']"
      ]
     },
     "execution_count": 1084,
     "metadata": {},
     "output_type": "execute_result"
    }
   ],
   "source": [
    "print(min_MAE)\n",
    "remove_list1\n"
   ]
  },
  {
   "cell_type": "code",
   "execution_count": null,
   "metadata": {},
   "outputs": [],
   "source": []
  }
 ],
 "metadata": {
  "kernelspec": {
   "display_name": "Python 3",
   "language": "python",
   "name": "python3"
  },
  "language_info": {
   "codemirror_mode": {
    "name": "ipython",
    "version": 3
   },
   "file_extension": ".py",
   "mimetype": "text/x-python",
   "name": "python",
   "nbconvert_exporter": "python",
   "pygments_lexer": "ipython3",
   "version": "3.7.10"
  }
 },
 "nbformat": 4,
 "nbformat_minor": 4
}
